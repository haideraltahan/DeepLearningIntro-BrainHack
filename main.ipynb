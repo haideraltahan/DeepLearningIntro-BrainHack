{
 "cells": [
  {
   "cell_type": "markdown",
   "source": [
    "# Intro to Deep Learning\n",
    "#### Jordan DeKraker & Haider Al-Tahan\n",
    "\n",
    "This is the practical component of this tutorial will focus on hands-on experience with Tensorflow. Topics will include:\n",
    "\n",
    "1.   Introduction to Tensorflow 2.0 and Keras. \n",
    "2.   Train and evaluate  of dense and convolutional neural networks for real problems.\n",
    "3.   An open session for exploring and adapting existing NNs or for helping attendees build their own networks.\n",
    "\n",
    "You can use [Google Colaboratory]('http://colab.research.google.com') notebook file which is a [Jupyter notebook]('https://jupyter.org/') with free limited access to a GPU. Jupyter notebooks allows python programs to run directly in the browser which can be great way to learn and use TensorFlow.\n",
    "\n",
    "If you are using Google colab notebook and want to utilize the free GPU for training, do the following:\n",
    "\n",
    "1. At the top-left of the of the menu bar, Select `Runtime` > `Change runtime type`. \n",
    "2. Click on `Hardware accelerator` > `GPU`.\n",
    "3. At the top-right of the menu bar, select `CONNECT` to initialize your python interpreter.\n"
   ],
   "metadata": {
    "collapsed": false
   }
  },
  {
   "cell_type": "markdown",
   "source": [
    "# INSTALLATION\n",
    "Note: you can also use this notebook locally on your machine. Just make sure that you have TensorFlow 2.0.\n",
    "When installing TensorFlow on your local machine, you also need to make sure that you have the right CPU or GPU version depending your machine.\n",
    "* If you have a GPU with CUDA and Cudnn or using google colab installed then you just do `pip install tensorflow-gpu==2.0.0` in your terminal.\n",
    "* If you don't have CUDA and Cudnn installed but have a GPU then follow [these instructions]('https://www.tensorflow.org/install/gpu').\n",
    "* Otherwise you can use your CPU and install TensorFlow by running `pip install tensorflow==2.0.0` in your terminal."
   ],
   "metadata": {
    "collapsed": false,
    "pycharm": {
     "name": "#%% md\n",
     "is_executing": false
    }
   }
  },
  {
   "cell_type": "code",
   "execution_count": null,
   "outputs": [],
   "source": [
    "# Without GPU\n",
    "# !pip install tensorflow==2.0.0\n",
    "# With GPU \n",
    "!pip install tensorflow-gpu==2.0.0\n",
    "\n",
    "\n",
    "\n"
   ],
   "metadata": {
    "collapsed": false,
    "pycharm": {
     "name": "#%%\n",
     "is_executing": true
    }
   }
  }
 ],
 "metadata": {
  "kernelspec": {
   "display_name": "Python 3",
   "language": "python",
   "name": "python3"
  },
  "language_info": {
   "codemirror_mode": {
    "name": "ipython",
    "version": 2
   },
   "file_extension": ".py",
   "mimetype": "text/x-python",
   "name": "python",
   "nbconvert_exporter": "python",
   "pygments_lexer": "ipython2",
   "version": "2.7.6"
  },
  "pycharm": {
   "stem_cell": {
    "cell_type": "raw",
    "source": [],
    "metadata": {
     "collapsed": false
    }
   }
  }
 },
 "nbformat": 4,
 "nbformat_minor": 0
}