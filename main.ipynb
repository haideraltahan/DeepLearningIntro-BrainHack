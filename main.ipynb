{
  "nbformat": 4,
  "nbformat_minor": 0,
  "metadata": {
    "kernelspec": {
      "name": "python3",
      "display_name": "Python 3"
    },
    "language_info": {
      "codemirror_mode": {
        "name": "ipython",
        "version": 2
      },
      "file_extension": ".py",
      "mimetype": "text/x-python",
      "name": "python",
      "nbconvert_exporter": "python",
      "pygments_lexer": "ipython2",
      "version": "2.7.6"
    },
    "pycharm": {
      "stem_cell": {
        "cell_type": "raw",
        "source": [],
        "metadata": {
          "collapsed": false
        }
      }
    },
    "colab": {
      "name": "Copy of main.ipynb",
      "provenance": [],
      "collapsed_sections": []
    },
    "accelerator": "GPU"
  },
  "cells": [
    {
      "cell_type": "markdown",
      "metadata": {
        "collapsed": false,
        "id": "WdfvvDpEI27_",
        "colab_type": "text"
      },
      "source": [
        "# Intro to Deep Learning\n",
        "#### Jordan DeKraker & Haider Al-Tahan\n",
        "\n",
        "This is the practical component of this tutorial will focus on hands-on experience with Tensorflow. Topics will include:\n",
        "\n",
        "1.   Introduction to Tensorflow 2.0 and Keras. \n",
        "2.   Train and evaluate  of dense and convolutional neural networks for real problems.\n",
        "3.   An open session for exploring and adapting existing NNs or for helping attendees build their own networks.\n",
        "\n",
        "You can use [Google Colaboratory]('http://colab.research.google.com') notebook file which is a [Jupyter notebook]('https://jupyter.org/') with free limited access to a GPU. Jupyter notebooks allows python programs to run directly in the browser which can be great way to learn and use TensorFlow.\n",
        "\n",
        "If you are using Google colab notebook and want to utilize the free GPU for training, do the following:\n",
        "\n",
        "1. At the top-left of the of the menu bar, Select `Runtime` > `Change runtime type`. \n",
        "2. Click on `Hardware accelerator` > `GPU`.\n",
        "3. At the top-right of the menu bar, select `CONNECT` to initialize your python interpreter.\n"
      ]
    },
    {
      "cell_type": "markdown",
      "metadata": {
        "collapsed": false,
        "pycharm": {
          "name": "#%% md\n",
          "is_executing": false
        },
        "id": "0_CkgEzjI28A",
        "colab_type": "text"
      },
      "source": [
        "# TensorFlow Installation\n",
        "Note: you can also use this notebook locally on your machine. Just make sure that you have TensorFlow 2.0.\n",
        "When installing TensorFlow on your local machine, you also need to make sure that you have the right CPU or GPU version depending your machine.\n",
        "* If you have a GPU with CUDA and Cudnn or using google colab installed then you just do `pip install tensorflow-gpu==2.0.0` in your terminal.\n",
        "* If you don't have CUDA and Cudnn installed but have a GPU then follow [these instructions]('https://www.tensorflow.org/install/gpu').\n",
        "* Otherwise you can use your CPU and install TensorFlow by running `pip install tensorflow==2.0.0` in your terminal."
      ]
    },
    {
      "cell_type": "code",
      "metadata": {
        "pycharm": {
          "name": "#%%\n",
          "is_executing": false
        },
        "id": "w75RfYSoI28B",
        "colab_type": "code",
        "colab": {
          "base_uri": "https://localhost:8080/",
          "height": 34
        },
        "outputId": "1b5193bb-561e-47d7-bc1a-f8e7b02aa1be"
      },
      "source": [
        "# Without GPU\n",
        "# !pip install tensorflow==2.0.0\n",
        "# With GPU \n",
        "# !pip install tensorflow-gpu==2.0.0\n",
        "# !pip install matplotlib\n",
        "# If using colab\n",
        "%tensorflow_version 2.x"
      ],
      "execution_count": 1,
      "outputs": [
        {
          "output_type": "stream",
          "text": [
            "TensorFlow 2.x selected.\n"
          ],
          "name": "stdout"
        }
      ]
    },
    {
      "cell_type": "markdown",
      "metadata": {
        "collapsed": false,
        "id": "Fp7YwNbCI28E",
        "colab_type": "text"
      },
      "source": [
        "# Imports"
      ]
    },
    {
      "cell_type": "code",
      "metadata": {
        "pycharm": {
          "name": "#%%\n",
          "is_executing": false
        },
        "id": "VWEtvKfpI28E",
        "colab_type": "code",
        "outputId": "b9a483e7-93f8-4340-eca9-72959cf068b7",
        "colab": {
          "base_uri": "https://localhost:8080/",
          "height": 34
        }
      },
      "source": [
        "import tensorflow as tf\n",
        "from tensorflow import keras\n",
        "from tensorflow.keras.models import Sequential \n",
        "import matplotlib.pyplot as plt\n",
        "import numpy as np\n",
        "from sklearn.model_selection import train_test_split\n",
        "import seaborn as sns\n",
        "from matplotlib.lines import Line2D\n",
        "print(tf.__version__)\n",
        "%matplotlib inline"
      ],
      "execution_count": 15,
      "outputs": [
        {
          "output_type": "stream",
          "text": [
            "2.0.0\n"
          ],
          "name": "stdout"
        }
      ]
    },
    {
      "cell_type": "markdown",
      "metadata": {
        "collapsed": false,
        "pycharm": {
          "name": "#%% md\n"
        },
        "id": "MYYrObBLI28H",
        "colab_type": "text"
      },
      "source": [
        "# Dataset\n",
        "For the first example we will use varous dataset. Keras provide us with basic image datasets that we could load with ease. Here is few that we are going to test:\n",
        "\n",
        "1.   MNIST -> this dataset consist of 60,000 (28x28) grayscale images for training and 10,000 images for testing. There are two variations of this dataset MNIST contain images in 10 classes of hand written digits. The other version of MNIST is called Fashion MNIST that consist of  60,000 (28x28) grayscale images of 10 fashion categories.\n",
        "\n",
        "2.   CIFAR -> this dataset consist of 50,000 (32x32) color images for training and 10,000 images for testing. There are two variations of this dataset CIFAR10 contain images in 10 classes (6000 images per class). While, the CIFAR100 contain images in 100 classes (600 images per class).\n"
      ]
    },
    {
      "cell_type": "code",
      "metadata": {
        "pycharm": {
          "name": "#%%\n",
          "is_executing": false
        },
        "id": "6s5FmZhyI28I",
        "colab_type": "code",
        "colab": {}
      },
      "source": [
        "from keras.datasets import cifar10, mnist, cifar100, fashion_mnist\n",
        "(x_train, y_train), (x_test, y_test) = mnist.load_data()\n",
        "x_val, x_test, y_val, y_test = train_test_split(x_test, y_test, test_size=0.5)"
      ],
      "execution_count": 0,
      "outputs": []
    },
    {
      "cell_type": "markdown",
      "metadata": {
        "id": "3AYSRAZXJLzq",
        "colab_type": "text"
      },
      "source": [
        "# Visualize Dataset\n",
        "\n",
        "The images are NumPy arrays, with pixel values ranging from 0 to 255. The labels are an array of integers, ranging from 0 to N. Each integer correspond to different image class.\n",
        "\n",
        "For our data variable (`x_train`), if we print the shape of our training data variable we will get a shape that corresponds to (number of samples, width of images, height of images, number of channels). In this case, 3 dimensional channel it means that we are dealing with colored images. \n",
        "\n",
        "For our labels variable (`y_train`), we same number of labels as our `x_train` data. Hence, if we print out the shape we get a matrix of shape: (number of samples, features).\n"
      ]
    },
    {
      "cell_type": "code",
      "metadata": {
        "id": "jwxj4XqoJo75",
        "colab_type": "code",
        "outputId": "164d2091-b765-4c96-9022-0a8852394e77",
        "colab": {
          "base_uri": "https://localhost:8080/",
          "height": 136
        }
      },
      "source": [
        "number_of_classes = y_train.max() - y_train.min() + 1\n",
        "print(f\"Training Matrix Shape for data: {x_train.shape}\")\n",
        "print(f\"Training Matrix Shape for labels: {y_train.shape}\")\n",
        "print(f\"Number of Classes: {number_of_classes}\")\n",
        "print(f\"Validation Matrix Shape for data: {x_val.shape}\")\n",
        "print(f\"Validation Matrix Shape for labels: {y_val.shape}\")\n",
        "print(f\"Testing Matrix Shape for data: {x_test.shape}\")\n",
        "print(f\"Testing Matrix Shape for labels: {y_test.shape}\")"
      ],
      "execution_count": 35,
      "outputs": [
        {
          "output_type": "stream",
          "text": [
            "Training Matrix Shape for data: (60000, 28, 28)\n",
            "Training Matrix Shape for labels: (60000,)\n",
            "Number of Classes: 10\n",
            "Validation Matrix Shape for data: (5000, 28, 28)\n",
            "Validation Matrix Shape for labels: (5000,)\n",
            "Testing Matrix Shape for data: (5000, 28, 28)\n",
            "Testing Matrix Shape for labels: (5000,)\n"
          ],
          "name": "stdout"
        }
      ]
    },
    {
      "cell_type": "code",
      "metadata": {
        "id": "1-pi7r-9LhBw",
        "colab_type": "code",
        "outputId": "870a8eb8-2db9-42f2-cb67-f474738aa1e6",
        "colab": {
          "base_uri": "https://localhost:8080/",
          "height": 1000
        }
      },
      "source": [
        "number_of_samples = 3\n",
        "plt.figure(figsize=(number_of_classes,number_of_samples*10))\n",
        "image_shape = x_train.shape[1:]\n",
        "\n",
        "c = 1\n",
        "for i in range(number_of_classes):\n",
        "    random_samples =  np.random.choice(np.argwhere(y_train == i)[:,0], number_of_samples)\n",
        "    for j in range(number_of_samples):\n",
        "        plt.subplot(number_of_classes,number_of_samples,c)\n",
        "        plt.xticks([])\n",
        "        plt.yticks([])\n",
        "        plt.grid(False)\n",
        "        plt.imshow(x_train[random_samples[j]], cmap=plt.cm.binary)\n",
        "        c += 1\n",
        "plt.show()"
      ],
      "execution_count": 36,
      "outputs": [
        {
          "output_type": "display_data",
          "data": {
            "image/png": "[encoded data removed]",
            "text/plain": [
              "<Figure size 720x2160 with 30 Axes>"
            ]
          },
          "metadata": {
            "tags": []
          }
        }
      ]
    },
    {
      "cell_type": "markdown",
      "metadata": {
        "id": "gyHGQ2yg0CfT",
        "colab_type": "text"
      },
      "source": [
        "# Model Construction\n",
        "\n",
        "We often represent neural networks as a set of layers. Each layer has its own number of units, activation function, etc... For this example, we construct a very basic model consisting of only fully connected layers.\n",
        "\n",
        "A fully connected layer (called dense layer in Keras) require a one-dimentional input. Hence, the first layer of our network only transforms the 2d image to a one-dimensional and has not learning parameters. Resulting in an array of $height \\times width \\times channels = Array Size$.\n",
        "\n",
        "We have chosen 256 nodes (or units) for our first hidden fully connected layer. Increasing the number of nodes, increases complixity and computation time. Sometime it is more advantagous to increase complixity by increasing the number of layers rather than the number of nodes.\n",
        "\n",
        "The last layer consist of 10-nodes that return an array of 10 probability scores that sums to 1. Each node contains a score that indicates the probability that the current image belongs to one of the 10 classes."
      ]
    },
    {
      "cell_type": "markdown",
      "metadata": {
        "id": "ctQap6x_F1UN",
        "colab_type": "text"
      },
      "source": [
        "![alt text](https://svgshare.com/i/Ftm.svg)"
      ]
    },
    {
      "cell_type": "code",
      "metadata": {
        "id": "OQPaDxtW0Htf",
        "colab_type": "code",
        "outputId": "e942c05b-dfed-4db9-9336-ff779a576f4e",
        "colab": {
          "base_uri": "https://localhost:8080/",
          "height": 255
        }
      },
      "source": [
        "model = Sequential()\n",
        "model.add(keras.layers.Flatten(input_shape=image_shape))\n",
        "model.add(keras.layers.Dense(256, activation='relu'))\n",
        "model.add(keras.layers.Dense(number_of_classes, activation='softmax'))\n",
        "model.summary()"
      ],
      "execution_count": 37,
      "outputs": [
        {
          "output_type": "stream",
          "text": [
            "Model: \"sequential_6\"\n",
            "_________________________________________________________________\n",
            "Layer (type)                 Output Shape              Param #   \n",
            "=================================================================\n",
            "flatten_5 (Flatten)          (None, 784)               0         \n",
            "_________________________________________________________________\n",
            "dense_10 (Dense)             (None, 256)               200960    \n",
            "_________________________________________________________________\n",
            "dense_11 (Dense)             (None, 10)                2570      \n",
            "=================================================================\n",
            "Total params: 203,530\n",
            "Trainable params: 203,530\n",
            "Non-trainable params: 0\n",
            "_________________________________________________________________\n"
          ],
          "name": "stdout"
        }
      ]
    },
    {
      "cell_type": "markdown",
      "metadata": {
        "id": "2QT-kVay0tOJ",
        "colab_type": "text"
      },
      "source": [
        "# Compile the Model\n",
        "\n",
        "Before training we need to compile our model. When compiling our model we also need to specify few parameters:\n",
        "\n",
        "1.   Optimizer: Optimizers update the weight parameters to minimize the loss function. More optimizers can be found [here]('https://keras.io/optimizers/').\n",
        "\n",
        "2.   Loss Function: acts as guides to the terrain telling optimizer if it is moving in the right direction. The less our loss is the less difference there is between the predicted output and the actual output. More Loss Functions can be found [here]('https://keras.io/losses/').\n",
        "\n",
        "3.   Metrics: Used to monitor the training and testing steps. More Loss Functions can be found [here]('https://keras.io/metrics/')."
      ]
    },
    {
      "cell_type": "code",
      "metadata": {
        "id": "aJ4UGk480vWA",
        "colab_type": "code",
        "colab": {}
      },
      "source": [
        "# adam_op = keras.optimizers.Adam(learning_rate=0.001)\n",
        "model.compile(optimizer='adam', loss='sparse_categorical_crossentropy', metrics=['accuracy'])"
      ],
      "execution_count": 0,
      "outputs": []
    },
    {
      "cell_type": "markdown",
      "metadata": {
        "id": "CWiajd1S02qx",
        "colab_type": "text"
      },
      "source": [
        "# Train the Model"
      ]
    },
    {
      "cell_type": "code",
      "metadata": {
        "id": "4gwwT1R802NI",
        "colab_type": "code",
        "outputId": "70e2d404-ad7e-4fcd-c80a-933593811281",
        "colab": {
          "base_uri": "https://localhost:8080/",
          "height": 391
        }
      },
      "source": [
        "model.fit(x_train, y_train, epochs=10, validation_data=(x_val, y_val))"
      ],
      "execution_count": 39,
      "outputs": [
        {
          "output_type": "stream",
          "text": [
            "Train on 60000 samples, validate on 5000 samples\n",
            "Epoch 1/10\n",
            "60000/60000 [==============================] - 7s 109us/sample - loss: 2.3660 - accuracy: 0.8938 - val_loss: 0.4397 - val_accuracy: 0.8934\n",
            "Epoch 2/10\n",
            "60000/60000 [==============================] - 6s 104us/sample - loss: 0.3335 - accuracy: 0.9307 - val_loss: 0.2801 - val_accuracy: 0.9342\n",
            "Epoch 3/10\n",
            "60000/60000 [==============================] - 6s 103us/sample - loss: 0.2550 - accuracy: 0.9404 - val_loss: 0.3144 - val_accuracy: 0.9238\n",
            "Epoch 4/10\n",
            "60000/60000 [==============================] - 6s 103us/sample - loss: 0.2391 - accuracy: 0.9449 - val_loss: 0.2956 - val_accuracy: 0.9386\n",
            "Epoch 5/10\n",
            "60000/60000 [==============================] - 6s 104us/sample - loss: 0.2204 - accuracy: 0.9485 - val_loss: 0.2878 - val_accuracy: 0.9426\n",
            "Epoch 6/10\n",
            "60000/60000 [==============================] - 6s 104us/sample - loss: 0.2191 - accuracy: 0.9507 - val_loss: 0.3095 - val_accuracy: 0.9464\n",
            "Epoch 7/10\n",
            "60000/60000 [==============================] - 6s 104us/sample - loss: 0.1991 - accuracy: 0.9559 - val_loss: 0.3301 - val_accuracy: 0.9520\n",
            "Epoch 8/10\n",
            "60000/60000 [==============================] - 6s 104us/sample - loss: 0.1973 - accuracy: 0.9562 - val_loss: 0.2532 - val_accuracy: 0.9526\n",
            "Epoch 9/10\n",
            "60000/60000 [==============================] - 6s 104us/sample - loss: 0.1755 - accuracy: 0.9595 - val_loss: 0.2775 - val_accuracy: 0.9494\n",
            "Epoch 10/10\n",
            "60000/60000 [==============================] - 6s 104us/sample - loss: 0.1792 - accuracy: 0.9601 - val_loss: 0.3017 - val_accuracy: 0.9518\n"
          ],
          "name": "stdout"
        },
        {
          "output_type": "execute_result",
          "data": {
            "text/plain": [
              "<tensorflow.python.keras.callbacks.History at 0x7f00ea13ada0>"
            ]
          },
          "metadata": {
            "tags": []
          },
          "execution_count": 39
        }
      ]
    },
    {
      "cell_type": "code",
      "metadata": {
        "id": "CWlnrij83JLh",
        "colab_type": "code",
        "outputId": "a320446c-a8ed-4dfa-bbd1-fedd1e98190e",
        "colab": {
          "base_uri": "https://localhost:8080/",
          "height": 296
        }
      },
      "source": [
        "ax = sns.lineplot(range(len(model.history.history['loss'])), model.history.history['loss'])\n",
        "ax = sns.lineplot(range(len(model.history.history['val_loss'])), model.history.history['val_loss'])\n",
        "ax.set_xlabel('Epoch')\n",
        "ax.set_ylabel('Loss')\n",
        "ax.legend(['loss', 'val_loss'])"
      ],
      "execution_count": 40,
      "outputs": [
        {
          "output_type": "execute_result",
          "data": {
            "text/plain": [
              "<matplotlib.legend.Legend at 0x7f00eaae5da0>"
            ]
          },
          "metadata": {
            "tags": []
          },
          "execution_count": 40
        },
        {
          "output_type": "display_data",
          "data": {
            "image/png": "[encoded data removed]",
            "text/plain": [
              "<Figure size 432x288 with 1 Axes>"
            ]
          },
          "metadata": {
            "tags": []
          }
        }
      ]
    },
    {
      "cell_type": "code",
      "metadata": {
        "id": "IJvXiEjE4eT_",
        "colab_type": "code",
        "outputId": "c2d87a3f-ecf6-4fb8-f229-d6cfcbb2ee8d",
        "colab": {
          "base_uri": "https://localhost:8080/",
          "height": 296
        }
      },
      "source": [
        "ax = sns.lineplot(range(len(model.history.history['accuracy'])), model.history.history['accuracy'])\n",
        "ax = sns.lineplot(range(len(model.history.history['val_accuracy'])), model.history.history['val_accuracy'])\n",
        "ax.set_xlabel('Epoch')\n",
        "ax.set_ylabel('Accuracy')\n",
        "ax.legend(['accuracy', 'val_accuracy'])"
      ],
      "execution_count": 41,
      "outputs": [
        {
          "output_type": "execute_result",
          "data": {
            "text/plain": [
              "<matplotlib.legend.Legend at 0x7f00e630bd68>"
            ]
          },
          "metadata": {
            "tags": []
          },
          "execution_count": 41
        },
        {
          "output_type": "display_data",
          "data": {
            "image/png": "[encoded data removed]",
            "text/plain": [
              "<Figure size 432x288 with 1 Axes>"
            ]
          },
          "metadata": {
            "tags": []
          }
        }
      ]
    },
    {
      "cell_type": "markdown",
      "metadata": {
        "id": "Ac3oQ4a108no",
        "colab_type": "text"
      },
      "source": [
        "# Quantitative Accuracy"
      ]
    },
    {
      "cell_type": "code",
      "metadata": {
        "id": "KoTEbgI10_yp",
        "colab_type": "code",
        "outputId": "52ce1db3-c98f-4464-a943-1c0aa6b02ca9",
        "colab": {
          "base_uri": "https://localhost:8080/",
          "height": 68
        }
      },
      "source": [
        "test_loss, test_acc = model.evaluate(x_test,  y_test, verbose=2)\n",
        "print('\\nTest accuracy:', test_acc)"
      ],
      "execution_count": 0,
      "outputs": [
        {
          "output_type": "stream",
          "text": [
            "10000/1 - 1s - loss: 2.3035 - accuracy: 0.1000\n",
            "\n",
            "Test accuracy: 0.1\n"
          ],
          "name": "stdout"
        }
      ]
    },
    {
      "cell_type": "markdown",
      "metadata": {
        "id": "MTEOMGhO1QYw",
        "colab_type": "text"
      },
      "source": [
        "# Qualitative Analysis"
      ]
    },
    {
      "cell_type": "code",
      "metadata": {
        "id": "Z-k0CY5H1TDw",
        "colab_type": "code",
        "colab": {}
      },
      "source": [
        "def plot_image(i, predictions_array, true_label, img):\n",
        "  predictions_array, true_label, img = predictions_array, true_label[i], img[i]\n",
        "  plt.grid(False)\n",
        "  plt.xticks([])\n",
        "  plt.yticks([])\n",
        "  plt.imshow(img, cmap=plt.cm.binary)\n",
        "  predicted_label = np.argmax(predictions_array)\n",
        "  if predicted_label == true_label:\n",
        "    color = 'blue'\n",
        "  else:\n",
        "    color = 'red'\n",
        "  plt.xlabel(\"{} {:2.0f}% \".format('Highest Probability', 100*np.max(predictions_array)), color=color)\n",
        "\n",
        "def plot_value_array(i, predictions_array, true_label):\n",
        "  predictions_array, true_label = predictions_array, true_label[i]\n",
        "  plt.grid(False)\n",
        "  plt.xticks(range(10))\n",
        "  plt.yticks([])\n",
        "  thisplot = plt.bar(range(10), predictions_array, color=\"#777777\")\n",
        "  plt.ylim([0, 1])\n",
        "  predicted_label = np.argmax(predictions_array)\n",
        "\n",
        "  thisplot[predicted_label].set_color('red')\n",
        "  thisplot[true_label[0]].set_color('blue')\n",
        "  cmap = plt.cm.coolwarm\n",
        "  custom_lines = [Line2D([0], [0], color=cmap(0.), lw=4),\n",
        "                Line2D([0], [0], color=cmap(.5), lw=4),\n",
        "                Line2D([0], [0], color=cmap(1.), lw=4)]\n",
        "  plt.legend(custom_lines, ['True Label', 'Other Labels', 'Predicted Label'])"
      ],
      "execution_count": 0,
      "outputs": []
    },
    {
      "cell_type": "code",
      "metadata": {
        "id": "0lqvx8e3K_0m",
        "colab_type": "code",
        "outputId": "46780e77-29c8-431e-a49d-8577eda353e5",
        "colab": {
          "base_uri": "https://localhost:8080/",
          "height": 211
        }
      },
      "source": [
        "predictions = model.predict(x_test)\n",
        "i = np.random.randint(0, y_test.shape[0])\n",
        "plt.figure(figsize=(6,3))\n",
        "plt.subplot(1,2,1)\n",
        "plot_image(i, predictions[i], y_test, x_test)\n",
        "plt.subplot(1,2,2)\n",
        "plot_value_array(i, predictions[i],  y_test)\n",
        "plt.show()"
      ],
      "execution_count": 0,
      "outputs": [
        {
          "output_type": "display_data",
          "data": {
            "image/png": "[encoded data removed]",
            "text/plain": [
              "<Figure size 432x216 with 2 Axes>"
            ]
          },
          "metadata": {
            "tags": []
          }
        }
      ]
    },
    {
      "cell_type": "markdown",
      "metadata": {
        "id": "aVf003n9u-Ca",
        "colab_type": "text"
      },
      "source": [
        "# Convolution Neural Networks\n"
      ]
    },
    {
      "cell_type": "code",
      "metadata": {
        "id": "xZKF2qa6vCwS",
        "colab_type": "code",
        "outputId": "f7ec9850-a0a6-4a73-b08a-156aacde6789",
        "colab": {
          "base_uri": "https://localhost:8080/",
          "height": 765
        }
      },
      "source": [
        "from keras.datasets import cifar10, mnist, cifar100, fashion_mnist\n",
        "(x_train, y_train), (x_test, y_test) = mnist.load_data()\n",
        "x_train = x_train.reshape(x_train.shape[0], x_train.shape[1], x_train.shape[2], 1)\n",
        "x_test = x_test.reshape(x_test.shape[0], x_test.shape[1], x_test.shape[2], 1)\n",
        "x_val, x_test, y_val, y_test = train_test_split(x_test, y_test, test_size=0.5)\n",
        "\n",
        "number_of_classes = y_train.max() - y_train.min() + 1\n",
        "model = Sequential()\n",
        "model.add(keras.layers.Conv2D(32, (3, 3), activation='relu', input_shape=x_train.shape[1:]))\n",
        "model.add(keras.layers.MaxPooling2D((2, 2)))\n",
        "model.add(keras.layers.Conv2D(64, (3, 3), activation='relu'))\n",
        "model.add(keras.layers.MaxPooling2D((2, 2)))\n",
        "model.add(keras.layers.Flatten())\n",
        "model.add(keras.layers.Dense(64, activation='relu'))\n",
        "model.add(keras.layers.Dense(number_of_classes, activation='softmax'))\n",
        "model.summary()\n",
        "\n",
        "model.compile(optimizer='adam', loss='sparse_categorical_crossentropy', metrics=['accuracy'])\n",
        "model.fit(x_train, y_train, epochs=10, validation_data=(x_val, y_val))\n"
      ],
      "execution_count": 42,
      "outputs": [
        {
          "output_type": "stream",
          "text": [
            "Model: \"sequential_7\"\n",
            "_________________________________________________________________\n",
            "Layer (type)                 Output Shape              Param #   \n",
            "=================================================================\n",
            "conv2d_16 (Conv2D)           (None, 26, 26, 32)        320       \n",
            "_________________________________________________________________\n",
            "max_pooling2d_10 (MaxPooling (None, 13, 13, 32)        0         \n",
            "_________________________________________________________________\n",
            "conv2d_17 (Conv2D)           (None, 11, 11, 64)        18496     \n",
            "_________________________________________________________________\n",
            "max_pooling2d_11 (MaxPooling (None, 5, 5, 64)          0         \n",
            "_________________________________________________________________\n",
            "flatten_6 (Flatten)          (None, 1600)              0         \n",
            "_________________________________________________________________\n",
            "dense_12 (Dense)             (None, 64)                102464    \n",
            "_________________________________________________________________\n",
            "dense_13 (Dense)             (None, 10)                650       \n",
            "=================================================================\n",
            "Total params: 121,930\n",
            "Trainable params: 121,930\n",
            "Non-trainable params: 0\n",
            "_________________________________________________________________\n",
            "Train on 60000 samples, validate on 5000 samples\n",
            "Epoch 1/10\n",
            "60000/60000 [==============================] - 12s 199us/sample - loss: 0.2859 - accuracy: 0.9449 - val_loss: 0.0600 - val_accuracy: 0.9810\n",
            "Epoch 2/10\n",
            "60000/60000 [==============================] - 11s 187us/sample - loss: 0.0626 - accuracy: 0.9807 - val_loss: 0.0609 - val_accuracy: 0.9818\n",
            "Epoch 3/10\n",
            "60000/60000 [==============================] - 11s 188us/sample - loss: 0.0477 - accuracy: 0.9853 - val_loss: 0.0644 - val_accuracy: 0.9798\n",
            "Epoch 4/10\n",
            "60000/60000 [==============================] - 11s 186us/sample - loss: 0.0411 - accuracy: 0.9874 - val_loss: 0.0393 - val_accuracy: 0.9872\n",
            "Epoch 5/10\n",
            "60000/60000 [==============================] - 11s 188us/sample - loss: 0.0357 - accuracy: 0.9889 - val_loss: 0.0489 - val_accuracy: 0.9868\n",
            "Epoch 6/10\n",
            "60000/60000 [==============================] - 11s 188us/sample - loss: 0.0314 - accuracy: 0.9905 - val_loss: 0.0438 - val_accuracy: 0.9890\n",
            "Epoch 7/10\n",
            "60000/60000 [==============================] - 11s 187us/sample - loss: 0.0269 - accuracy: 0.9917 - val_loss: 0.0490 - val_accuracy: 0.9868\n",
            "Epoch 8/10\n",
            "60000/60000 [==============================] - 11s 187us/sample - loss: 0.0239 - accuracy: 0.9929 - val_loss: 0.0414 - val_accuracy: 0.9900\n",
            "Epoch 9/10\n",
            "60000/60000 [==============================] - 11s 187us/sample - loss: 0.0223 - accuracy: 0.9934 - val_loss: 0.0545 - val_accuracy: 0.9880\n",
            "Epoch 10/10\n",
            "60000/60000 [==============================] - 11s 188us/sample - loss: 0.0189 - accuracy: 0.9943 - val_loss: 0.0496 - val_accuracy: 0.9866\n"
          ],
          "name": "stdout"
        },
        {
          "output_type": "execute_result",
          "data": {
            "text/plain": [
              "<tensorflow.python.keras.callbacks.History at 0x7f00e79aaf28>"
            ]
          },
          "metadata": {
            "tags": []
          },
          "execution_count": 42
        }
      ]
    },
    {
      "cell_type": "code",
      "metadata": {
        "id": "3J6zqWmLzf4c",
        "colab_type": "code",
        "colab": {
          "base_uri": "https://localhost:8080/",
          "height": 296
        },
        "outputId": "938bbe16-3f03-4bf6-fe48-b6c7595d9c5f"
      },
      "source": [
        "ax = sns.lineplot(range(len(model.history.history['loss'])), model.history.history['loss'])\n",
        "ax = sns.lineplot(range(len(model.history.history['val_loss'])), model.history.history['val_loss'])\n",
        "ax.set_xlabel('Epoch')\n",
        "ax.set_ylabel('Loss')\n",
        "ax.legend(['loss', 'val_loss'])"
      ],
      "execution_count": 43,
      "outputs": [
        {
          "output_type": "execute_result",
          "data": {
            "text/plain": [
              "<matplotlib.legend.Legend at 0x7f00ea2c99e8>"
            ]
          },
          "metadata": {
            "tags": []
          },
          "execution_count": 43
        },
        {
          "output_type": "display_data",
          "data": {
            "image/png": "[encoded data removed]",
            "text/plain": [
              "<Figure size 432x288 with 1 Axes>"
            ]
          },
          "metadata": {
            "tags": []
          }
        }
      ]
    },
    {
      "cell_type": "code",
      "metadata": {
        "id": "EaSTcGigzfVu",
        "colab_type": "code",
        "colab": {
          "base_uri": "https://localhost:8080/",
          "height": 296
        },
        "outputId": "446765a2-77b4-4398-d909-fec1ce653aee"
      },
      "source": [
        "ax = sns.lineplot(range(len(model.history.history['accuracy'])), model.history.history['accuracy'])\n",
        "ax = sns.lineplot(range(len(model.history.history['val_accuracy'])), model.history.history['val_accuracy'])\n",
        "ax.set_xlabel('Epoch')\n",
        "ax.set_ylabel('Accuracy')\n",
        "ax.legend(['accuracy', 'val_accuracy'])"
      ],
      "execution_count": 44,
      "outputs": [
        {
          "output_type": "execute_result",
          "data": {
            "text/plain": [
              "<matplotlib.legend.Legend at 0x7f00ea761ef0>"
            ]
          },
          "metadata": {
            "tags": []
          },
          "execution_count": 44
        },
        {
          "output_type": "display_data",
          "data": {
            "image/png": "[encoded data removed]",
            "text/plain": [
              "<Figure size 432x288 with 1 Axes>"
            ]
          },
          "metadata": {
            "tags": []
          }
        }
      ]
    },
    {
      "cell_type": "code",
      "metadata": {
        "id": "YxTUPne4zjF0",
        "colab_type": "code",
        "outputId": "69b0aa31-83c8-4611-ef17-c9eb366a7731",
        "colab": {
          "base_uri": "https://localhost:8080/",
          "height": 68
        }
      },
      "source": [
        "test_loss, test_acc = model.evaluate(x_test,  y_test, verbose=2)\n",
        "print('\\nTest accuracy:', test_acc)"
      ],
      "execution_count": 45,
      "outputs": [
        {
          "output_type": "stream",
          "text": [
            "5000/1 - 1s - loss: 0.0393 - accuracy: 0.9854\n",
            "\n",
            "Test accuracy: 0.9854\n"
          ],
          "name": "stdout"
        }
      ]
    }
  ]
}