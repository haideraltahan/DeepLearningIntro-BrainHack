{
 "cells": [
  {
   "cell_type": "markdown",
   "source": [
    "# Intro to Deep Learning\n",
    "#### Jordan DeKraker & Haider Al-Tahan\n",
    "\n",
    "This is the practical component of this tutorial will focus on hands-on experience with Tensorflow. Topics will include:\n",
    "\n",
    "1.   Introduction to Tensorflow 2.0 and Keras. \n",
    "2.   Train and evaluate  of dense and convolutional neural networks for real problems.\n",
    "3.   An open session for exploring and adapting existing NNs or for helping attendees build their own networks.\n",
    "\n",
    "You can use [Google Colaboratory]('http://colab.research.google.com') notebook file which is a [Jupyter notebook]('https://jupyter.org/') with free limited access to a GPU. Jupyter notebooks allows python programs to run directly in the browser which can be great way to learn and use TensorFlow.\n",
    "\n",
    "If you are using Google colab notebook and want to utilize the free GPU for training, do the following:\n",
    "\n",
    "1. At the top-left of the of the menu bar, Select `Runtime` > `Change runtime type`. \n",
    "2. Click on `Hardware accelerator` > `GPU`.\n",
    "3. At the top-right of the menu bar, select `CONNECT` to initialize your python interpreter.\n"
   ],
   "metadata": {
    "collapsed": false
   }
  },
  {
   "cell_type": "markdown",
   "source": [
    "# TensorFlow Installation\n",
    "Note: you can also use this notebook locally on your machine. Just make sure that you have TensorFlow 2.0.\n",
    "When installing TensorFlow on your local machine, you also need to make sure that you have the right CPU or GPU version depending your machine.\n",
    "* If you have a GPU with CUDA and Cudnn or using google colab installed then you just do `pip install tensorflow-gpu==2.0.0` in your terminal.\n",
    "* If you don't have CUDA and Cudnn installed but have a GPU then follow [these instructions]('https://www.tensorflow.org/install/gpu').\n",
    "* Otherwise you can use your CPU and install TensorFlow by running `pip install tensorflow==2.0.0` in your terminal."
   ],
   "metadata": {
    "collapsed": false,
    "pycharm": {
     "name": "#%% md\n",
     "is_executing": false
    }
   }
  },
  {
   "cell_type": "code",
   "execution_count": 6,
   "outputs": [],
   "source": [
    "# Without GPU\n",
    "# !pip install tensorflow==2.0.0\n",
    "# With GPU \n",
    "# !pip install tensorflow-gpu==2.0.0\n",
    "# !pip install matplotlib\n",
    "# If using colab\n",
    "# %tensorflow_version 2.x"
   ],
   "metadata": {
    "collapsed": false,
    "pycharm": {
     "name": "#%%\n",
     "is_executing": false
    }
   }
  },
  {
   "cell_type": "markdown",
   "source": [
    "# Imports"
   ],
   "metadata": {
    "collapsed": false
   }
  },
  {
   "cell_type": "code",
   "execution_count": 7,
   "outputs": [
    {
     "name": "stdout",
     "text": [
      "1.14.0\n"
     ],
     "output_type": "stream"
    }
   ],
   "source": [
    "import tensorflow as tf\n",
    "from tf import keras\n",
    "import matplotlib\n",
    "import numpy as np\n",
    "print(tf.__version__)"
   ],
   "metadata": {
    "collapsed": false,
    "pycharm": {
     "name": "#%%\n",
     "is_executing": false
    }
   }
  },
  {
   "cell_type": "markdown",
   "source": [
    "# CIFAR Dataset\n",
    "For the first example we will use [CIFAR dataset]('https://www.cs.toronto.edu/~kriz/cifar.html'). In Keras, the dataset consist of 50,000 (32x32) color images for training and 10,000 images for testing. There are two variations of this dataset CIFAR10 contain images in 10 classes (6000 images per class). While, the CIFAR100 contain images in 100 classes (600 images per class)."
   ],
   "metadata": {
    "collapsed": false,
    "pycharm": {
     "name": "#%% md\n"
    }
   }
  },
  {
   "cell_type": "code",
   "execution_count": 4,
   "outputs": [
    {
     "traceback": [
      "\u001b[1;31m---------------------------------------------------------------------------\u001b[0m",
      "\u001b[1;31mModuleNotFoundError\u001b[0m                       Traceback (most recent call last)",
      "\u001b[1;32m<ipython-input-4-9117078ebdb2>\u001b[0m in \u001b[0;36m<module>\u001b[1;34m\u001b[0m\n\u001b[1;32m----> 1\u001b[1;33m \u001b[1;32mfrom\u001b[0m \u001b[0mkeras\u001b[0m\u001b[1;33m.\u001b[0m\u001b[0mdatasets\u001b[0m \u001b[1;32mimport\u001b[0m \u001b[0mcifar10\u001b[0m\u001b[1;33m\u001b[0m\u001b[1;33m\u001b[0m\u001b[0m\n\u001b[0m\u001b[0;32m      2\u001b[0m \u001b[1;33m(\u001b[0m\u001b[0mx_train\u001b[0m\u001b[1;33m,\u001b[0m \u001b[0my_train\u001b[0m\u001b[1;33m)\u001b[0m\u001b[1;33m,\u001b[0m \u001b[1;33m(\u001b[0m\u001b[0mx_test\u001b[0m\u001b[1;33m,\u001b[0m \u001b[0my_test\u001b[0m\u001b[1;33m)\u001b[0m \u001b[1;33m=\u001b[0m \u001b[0mcifar10\u001b[0m\u001b[1;33m.\u001b[0m\u001b[0mload_data\u001b[0m\u001b[1;33m(\u001b[0m\u001b[1;33m)\u001b[0m\u001b[1;33m\u001b[0m\u001b[1;33m\u001b[0m\u001b[0m\n",
      "\u001b[1;31mModuleNotFoundError\u001b[0m: No module named 'keras'"
     ],
     "ename": "ModuleNotFoundError",
     "evalue": "No module named 'keras'",
     "output_type": "error"
    }
   ],
   "source": [
    "from keras.datasets import cifar10\n",
    "(x_train, y_train), (x_test, y_test) = cifar10.load_data()"
   ],
   "metadata": {
    "collapsed": false,
    "pycharm": {
     "name": "#%%\n",
     "is_executing": false
    }
   }
  }
 ],
 "metadata": {
  "kernelspec": {
   "display_name": "Python 3",
   "language": "python",
   "name": "python3"
  },
  "language_info": {
   "codemirror_mode": {
    "name": "ipython",
    "version": 2
   },
   "file_extension": ".py",
   "mimetype": "text/x-python",
   "name": "python",
   "nbconvert_exporter": "python",
   "pygments_lexer": "ipython2",
   "version": "2.7.6"
  },
  "pycharm": {
   "stem_cell": {
    "cell_type": "raw",
    "source": [],
    "metadata": {
     "collapsed": false
    }
   }
  }
 },
 "nbformat": 4,
 "nbformat_minor": 0
}