{
  "nbformat": 4,
  "nbformat_minor": 0,
  "metadata": {
    "colab": {
      "name": "Visualization",
      "provenance": [],
      "collapsed_sections": []
    },
    "kernelspec": {
      "name": "python3",
      "display_name": "Python 3"
    },
    "accelerator": "GPU"
  },
  "cells": [
    {
      "cell_type": "markdown",
      "metadata": {
        "id": "dtB-dGPxsPR7",
        "colab_type": "text"
      },
      "source": [
        "# Visualizing Intermediate Layers Activations"
      ]
    },
    {
      "cell_type": "code",
      "metadata": {
        "id": "gvC1kot8tGqD",
        "colab_type": "code",
        "colab": {}
      },
      "source": [
        "%tensorflow_version 2.x\n",
        "from keras.datasets import cifar10, mnist, cifar100, fashion_mnist\n",
        "from sklearn.model_selection import train_test_split\n",
        "from tensorflow.keras.models import Sequential \n",
        "from tensorflow import keras\n",
        "import matplotlib.pyplot as plt"
      ],
      "execution_count": 0,
      "outputs": []
    },
    {
      "cell_type": "code",
      "metadata": {
        "id": "GwTsE8reT97b",
        "colab_type": "code",
        "colab": {
          "base_uri": "https://localhost:8080/",
          "height": 629
        },
        "outputId": "50f5eeb3-b961-43a4-f5f9-a4561e56ab63"
      },
      "source": [
        "(x_train, y_train), (x_test, y_test) = mnist.load_data()\n",
        "x_train = x_train.reshape(x_train.shape[0], x_train.shape[1], x_train.shape[2], 1)\n",
        "x_test = x_test.reshape(x_test.shape[0], x_test.shape[1], x_test.shape[2], 1)\n",
        "epochs = 5\n",
        "x_val, x_test, y_val, y_test = train_test_split(x_test, y_test, test_size=0.5)\n",
        "\n",
        "number_of_classes = y_train.max() - y_train.min() + 1\n",
        "model = Sequential()\n",
        "model.add(keras.layers.Conv2D(32, (3, 3), activation='relu', input_shape=x_train.shape[1:]))\n",
        "model.add(keras.layers.MaxPooling2D((2, 2)))\n",
        "model.add(keras.layers.Conv2D(64, (3, 3), activation='relu'))\n",
        "model.add(keras.layers.MaxPooling2D((2, 2)))\n",
        "model.add(keras.layers.Flatten())\n",
        "model.add(keras.layers.Dense(64, activation='relu'))\n",
        "model.add(keras.layers.Dense(number_of_classes, activation='softmax'))\n",
        "model.summary()\n",
        "\n",
        "model.compile(optimizer='adam', loss='sparse_categorical_crossentropy', metrics=['accuracy'])\n",
        "model.fit(x_train, y_train, epochs=epochs, validation_data=(x_val, y_val))"
      ],
      "execution_count": 2,
      "outputs": [
        {
          "output_type": "stream",
          "text": [
            "Downloading data from https://s3.amazonaws.com/img-datasets/mnist.npz\n",
            "11493376/11490434 [==============================] - 2s 0us/step\n",
            "Model: \"sequential\"\n",
            "_________________________________________________________________\n",
            "Layer (type)                 Output Shape              Param #   \n",
            "=================================================================\n",
            "conv2d (Conv2D)              (None, 26, 26, 32)        320       \n",
            "_________________________________________________________________\n",
            "max_pooling2d (MaxPooling2D) (None, 13, 13, 32)        0         \n",
            "_________________________________________________________________\n",
            "conv2d_1 (Conv2D)            (None, 11, 11, 64)        18496     \n",
            "_________________________________________________________________\n",
            "max_pooling2d_1 (MaxPooling2 (None, 5, 5, 64)          0         \n",
            "_________________________________________________________________\n",
            "flatten (Flatten)            (None, 1600)              0         \n",
            "_________________________________________________________________\n",
            "dense (Dense)                (None, 64)                102464    \n",
            "_________________________________________________________________\n",
            "dense_1 (Dense)              (None, 10)                650       \n",
            "=================================================================\n",
            "Total params: 121,930\n",
            "Trainable params: 121,930\n",
            "Non-trainable params: 0\n",
            "_________________________________________________________________\n",
            "Train on 60000 samples, validate on 5000 samples\n",
            "Epoch 1/5\n",
            "60000/60000 [==============================] - 14s 241us/sample - loss: 0.3260 - accuracy: 0.9409 - val_loss: 0.0897 - val_accuracy: 0.9752\n",
            "Epoch 2/5\n",
            "60000/60000 [==============================] - 11s 181us/sample - loss: 0.0711 - accuracy: 0.9792 - val_loss: 0.0802 - val_accuracy: 0.9748\n",
            "Epoch 3/5\n",
            "60000/60000 [==============================] - 11s 176us/sample - loss: 0.0514 - accuracy: 0.9844 - val_loss: 0.0527 - val_accuracy: 0.9852\n",
            "Epoch 4/5\n",
            "60000/60000 [==============================] - 10s 174us/sample - loss: 0.0423 - accuracy: 0.9868 - val_loss: 0.0606 - val_accuracy: 0.9820\n",
            "Epoch 5/5\n",
            "60000/60000 [==============================] - 11s 176us/sample - loss: 0.0371 - accuracy: 0.9889 - val_loss: 0.0674 - val_accuracy: 0.9812\n"
          ],
          "name": "stdout"
        },
        {
          "output_type": "execute_result",
          "data": {
            "text/plain": [
              "<tensorflow.python.keras.callbacks.History at 0x7fa2e03dedd8>"
            ]
          },
          "metadata": {
            "tags": []
          },
          "execution_count": 2
        }
      ]
    },
    {
      "cell_type": "code",
      "metadata": {
        "id": "d1vdS8f1tC_V",
        "colab_type": "code",
        "colab": {
          "base_uri": "https://localhost:8080/",
          "height": 115
        },
        "outputId": "b84a7106-d515-4c88-ac98-27ee201530d9"
      },
      "source": [
        "def get_activation(model, layer, filter, image):\n",
        "    layer_outputs = [layer.output for layer in model.layers[:]] \n",
        "    activation_model = keras.models.Model(inputs=model.input, outputs=layer_outputs)\n",
        "    activations = activation_model.predict(image)\n",
        "    activations = activations[layer]\n",
        "    if activations.ndim == 4:\n",
        "        fig, axs = plt.subplots(1,2)\n",
        "        axs[0].matshow(activations[0, :, :, filter], cmap='viridis')\n",
        "        axs[1].matshow(image[0, :, :, 0], cmap='viridis')\n",
        "    else:\n",
        "        plt.matshow(activations[:], cmap='viridis')\n",
        "\n",
        "for i in range(2):\n",
        "    get_activation(model, 5, i, x_test[1].reshape((1, 28, 28, 1)))"
      ],
      "execution_count": 43,
      "outputs": [
        {
          "output_type": "display_data",
          "data": {
            "image/png": "[encoded data removed]",
            "text/plain": [
              "<Figure size 1152x144 with 1 Axes>"
            ]
          },
          "metadata": {
            "tags": []
          }
        },
        {
          "output_type": "display_data",
          "data": {
            "image/png": "[encoded data removed]",
            "text/plain": [
              "<Figure size 1152x144 with 1 Axes>"
            ]
          },
          "metadata": {
            "tags": []
          }
        }
      ]
    }
  ]
}